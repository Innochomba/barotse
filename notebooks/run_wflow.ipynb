{
 "cells": [
  {
   "cell_type": "markdown",
   "metadata": {},
   "source": [
    "# Run WFlow upper Zambezi as a BMI process #\n",
    "\n",
    "In this notebook we test the bmi functional model. The intention of this notebook is to get the following working:\n",
    "- run the 4km model for a couple of time steps, extract some spatial result and see if we can get this into an array we can display on screen\n",
    "- run the 1km model and the 4km model, extract outputs for one given grid cell, collect these in a time series and compare in one graph\n",
    "- run the 4km model (or 1, dependent on which one is most useful) and extract time series from upstream boundaries. To do this, the resp. model should first be altered so that it knows at which locations such outputs should be extracted. An additional map with gauges or table with gauge locations should be provided and extracted through BMI.\n",
    "- run the 4km model (or 1km ...) extract an infiltration layer, and modify it in some locations with additional water (use some dummy values just to simulate the idea of replenishment from flooded water)\n",
    "\n",
    "If the last two steps work, we have a start for coupling stuff with LISFLOOD 2-ways (force upstream boundaries, AND update recharge into groundwater).\n"
   ]
  },
  {
   "cell_type": "code",
   "execution_count": null,
   "metadata": {},
   "outputs": [],
   "source": [
    "import wflow.wflow_bmi as wfbmi\n",
    "\n"
   ]
  },
  {
   "cell_type": "markdown",
   "metadata": {},
   "source": [
    "1. Run 4km model for a couple of time steps, extract a spatial end result, plot it and close (finalize) model."
   ]
  },
  {
   "cell_type": "code",
   "execution_count": null,
   "metadata": {
    "scrolled": true
   },
   "outputs": [],
   "source": [
    "ini_file = r'c:\\temp\\wflow_zambezi\\zambezi_4km\\wflow_sbm.ini'\n",
    "\n",
    "bmimodel = wfbmi.wflowbmi_csdms()\n",
    "bmimodel.initialize_config(ini_file)\n",
    "bmimodel.initialize_model()\n",
    "\n",
    "for n in range(10):\n",
    "    print(n)\n",
    "    bmimodel.update()\n",
    "\n",
    "\n",
    "# extract (flow) data\n",
    "\n",
    "# plot result on map\n",
    "\n",
    "# finalize model\n",
    "bmimodel.finalize()\n"
   ]
  },
  {
   "cell_type": "markdown",
   "metadata": {},
   "source": [
    "2. Run 4km and 1km model for a couple of time steps, collect time series from both and plot in time series graph it and close (finalize) model."
   ]
  },
  {
   "cell_type": "markdown",
   "metadata": {},
   "source": [
    "3. Run 4km model and extract upstream boundary conditions in an array (time series) for use as forcing in LISFLOOD"
   ]
  },
  {
   "cell_type": "markdown",
   "metadata": {},
   "source": [
    "4. Run 4km model and update the infiltration layer as feedback forcing from LISFLOOD"
   ]
  },
  {
   "cell_type": "code",
   "execution_count": null,
   "metadata": {},
   "outputs": [],
   "source": []
  }
 ],
 "metadata": {
  "kernelspec": {
   "display_name": "Python 3",
   "language": "python",
   "name": "python3"
  },
  "language_info": {
   "codemirror_mode": {
    "name": "ipython",
    "version": 3
   },
   "file_extension": ".py",
   "mimetype": "text/x-python",
   "name": "python",
   "nbconvert_exporter": "python",
   "pygments_lexer": "ipython3",
   "version": "3.6.10"
  }
 },
 "nbformat": 4,
 "nbformat_minor": 4
}
